{
 "cells": [
  {
   "cell_type": "code",
   "execution_count": 1,
   "metadata": {},
   "outputs": [
    {
     "name": "stdout",
     "output_type": "stream",
     "text": [
      "\u001b[31mERROR: types-requests 2.31.0.20240218 has requirement urllib3>=2, but you'll have urllib3 1.25.8 which is incompatible.\u001b[0m\n",
      "\u001b[31mERROR: kubernetes 29.0.0 has requirement pyyaml>=5.4.1, but you'll have pyyaml 5.3.1 which is incompatible.\u001b[0m\n",
      "\u001b[31mERROR: chromadb 0.4.23 has requirement PyYAML>=6.0.0, but you'll have pyyaml 5.3.1 which is incompatible.\u001b[0m\n",
      "Note: you may need to restart the kernel to use updated packages.\n"
     ]
    }
   ],
   "source": [
    "%pip install --upgrade --quiet  langchain langchain-community langchainhub langchain-openai chromadb bs4"
   ]
  },
  {
   "cell_type": "code",
   "execution_count": 2,
   "metadata": {},
   "outputs": [
    {
     "name": "stdout",
     "output_type": "stream",
     "text": [
      "Requirement already satisfied: langchain in /home/abrham/.local/lib/python3.8/site-packages (0.1.8)\n",
      "Requirement already satisfied: aiohttp<4.0.0,>=3.8.3 in /home/abrham/.local/lib/python3.8/site-packages (from langchain) (3.9.3)\n",
      "Requirement already satisfied: dataclasses-json<0.7,>=0.5.7 in /home/abrham/.local/lib/python3.8/site-packages (from langchain) (0.6.4)\n",
      "Requirement already satisfied: jsonpatch<2.0,>=1.33 in /home/abrham/.local/lib/python3.8/site-packages (from langchain) (1.33)\n",
      "Requirement already satisfied: requests<3,>=2 in /home/abrham/.local/lib/python3.8/site-packages (from langchain) (2.31.0)\n",
      "Requirement already satisfied: pydantic<3,>=1 in /home/abrham/.local/lib/python3.8/site-packages (from langchain) (2.6.1)\n",
      "Requirement already satisfied: langchain-community<0.1,>=0.0.21 in /home/abrham/.local/lib/python3.8/site-packages (from langchain) (0.0.21)\n",
      "Requirement already satisfied: async-timeout<5.0.0,>=4.0.0; python_version < \"3.11\" in /home/abrham/.local/lib/python3.8/site-packages (from langchain) (4.0.3)\n",
      "Requirement already satisfied: SQLAlchemy<3,>=1.4 in /home/abrham/.local/lib/python3.8/site-packages (from langchain) (2.0.27)\n",
      "Requirement already satisfied: tenacity<9.0.0,>=8.1.0 in /home/abrham/.local/lib/python3.8/site-packages (from langchain) (8.2.3)\n",
      "Requirement already satisfied: langsmith<0.2.0,>=0.1.0 in /home/abrham/.local/lib/python3.8/site-packages (from langchain) (0.1.5)\n",
      "Requirement already satisfied: langchain-core<0.2,>=0.1.24 in /home/abrham/.local/lib/python3.8/site-packages (from langchain) (0.1.25)\n",
      "Requirement already satisfied: PyYAML>=5.3 in /usr/lib/python3/dist-packages (from langchain) (5.3.1)\n",
      "Requirement already satisfied: numpy<2,>=1 in /home/abrham/.local/lib/python3.8/site-packages (from langchain) (1.24.4)\n",
      "Requirement already satisfied: attrs>=17.3.0 in /usr/local/lib/python3.8/dist-packages (from aiohttp<4.0.0,>=3.8.3->langchain) (22.1.0)\n",
      "Requirement already satisfied: yarl<2.0,>=1.0 in /home/abrham/.local/lib/python3.8/site-packages (from aiohttp<4.0.0,>=3.8.3->langchain) (1.9.4)\n",
      "Requirement already satisfied: frozenlist>=1.1.1 in /home/abrham/.local/lib/python3.8/site-packages (from aiohttp<4.0.0,>=3.8.3->langchain) (1.4.1)\n",
      "Requirement already satisfied: aiosignal>=1.1.2 in /home/abrham/.local/lib/python3.8/site-packages (from aiohttp<4.0.0,>=3.8.3->langchain) (1.3.1)\n",
      "Requirement already satisfied: multidict<7.0,>=4.5 in /home/abrham/.local/lib/python3.8/site-packages (from aiohttp<4.0.0,>=3.8.3->langchain) (6.0.5)\n",
      "Requirement already satisfied: marshmallow<4.0.0,>=3.18.0 in /home/abrham/.local/lib/python3.8/site-packages (from dataclasses-json<0.7,>=0.5.7->langchain) (3.20.2)\n",
      "Requirement already satisfied: typing-inspect<1,>=0.4.0 in /home/abrham/.local/lib/python3.8/site-packages (from dataclasses-json<0.7,>=0.5.7->langchain) (0.9.0)\n",
      "Requirement already satisfied: jsonpointer>=1.9 in /home/abrham/.local/lib/python3.8/site-packages (from jsonpatch<2.0,>=1.33->langchain) (2.4)\n",
      "Requirement already satisfied: idna<4,>=2.5 in /usr/lib/python3/dist-packages (from requests<3,>=2->langchain) (2.8)\n",
      "Requirement already satisfied: charset-normalizer<4,>=2 in /home/abrham/.local/lib/python3.8/site-packages (from requests<3,>=2->langchain) (3.3.2)\n",
      "Requirement already satisfied: urllib3<3,>=1.21.1 in /usr/lib/python3/dist-packages (from requests<3,>=2->langchain) (1.25.8)\n",
      "Requirement already satisfied: certifi>=2017.4.17 in /usr/lib/python3/dist-packages (from requests<3,>=2->langchain) (2019.11.28)\n",
      "Requirement already satisfied: typing-extensions>=4.6.1 in /home/abrham/.local/lib/python3.8/site-packages (from pydantic<3,>=1->langchain) (4.9.0)\n",
      "Requirement already satisfied: pydantic-core==2.16.2 in /home/abrham/.local/lib/python3.8/site-packages (from pydantic<3,>=1->langchain) (2.16.2)\n",
      "Requirement already satisfied: annotated-types>=0.4.0 in /home/abrham/.local/lib/python3.8/site-packages (from pydantic<3,>=1->langchain) (0.6.0)\n",
      "Requirement already satisfied: greenlet!=0.4.17; platform_machine == \"aarch64\" or (platform_machine == \"ppc64le\" or (platform_machine == \"x86_64\" or (platform_machine == \"amd64\" or (platform_machine == \"AMD64\" or (platform_machine == \"win32\" or platform_machine == \"WIN32\"))))) in /home/abrham/.local/lib/python3.8/site-packages (from SQLAlchemy<3,>=1.4->langchain) (3.0.3)\n",
      "Requirement already satisfied: packaging<24.0,>=23.2 in /home/abrham/.local/lib/python3.8/site-packages (from langchain-core<0.2,>=0.1.24->langchain) (23.2)\n",
      "Requirement already satisfied: anyio<5,>=3 in /home/abrham/.local/lib/python3.8/site-packages (from langchain-core<0.2,>=0.1.24->langchain) (4.3.0)\n",
      "Requirement already satisfied: mypy-extensions>=0.3.0 in /home/abrham/.local/lib/python3.8/site-packages (from typing-inspect<1,>=0.4.0->dataclasses-json<0.7,>=0.5.7->langchain) (1.0.0)\n",
      "Requirement already satisfied: sniffio>=1.1 in /home/abrham/.local/lib/python3.8/site-packages (from anyio<5,>=3->langchain-core<0.2,>=0.1.24->langchain) (1.3.0)\n",
      "Requirement already satisfied: exceptiongroup>=1.0.2; python_version < \"3.11\" in /home/abrham/.local/lib/python3.8/site-packages (from anyio<5,>=3->langchain-core<0.2,>=0.1.24->langchain) (1.2.0)\n",
      "Note: you may need to restart the kernel to use updated packages.\n"
     ]
    }
   ],
   "source": [
    "pip install langchain"
   ]
  },
  {
   "cell_type": "code",
   "execution_count": 4,
   "metadata": {},
   "outputs": [
    {
     "name": "stdout",
     "output_type": "stream",
     "text": [
      "Requirement already satisfied: langchain-openai in /home/abrham/.local/lib/python3.8/site-packages (0.0.6)\n",
      "Requirement already satisfied: openai<2.0.0,>=1.10.0 in /home/abrham/.local/lib/python3.8/site-packages (from langchain-openai) (1.12.0)\n",
      "Requirement already satisfied: numpy<2,>=1 in /home/abrham/.local/lib/python3.8/site-packages (from langchain-openai) (1.24.4)\n",
      "Requirement already satisfied: tiktoken<1,>=0.5.2 in /home/abrham/.local/lib/python3.8/site-packages (from langchain-openai) (0.6.0)\n",
      "Requirement already satisfied: langchain-core<0.2,>=0.1.16 in /home/abrham/.local/lib/python3.8/site-packages (from langchain-openai) (0.1.25)\n",
      "Requirement already satisfied: sniffio in /home/abrham/.local/lib/python3.8/site-packages (from openai<2.0.0,>=1.10.0->langchain-openai) (1.3.0)\n",
      "Requirement already satisfied: pydantic<3,>=1.9.0 in /home/abrham/.local/lib/python3.8/site-packages (from openai<2.0.0,>=1.10.0->langchain-openai) (2.6.1)\n",
      "Requirement already satisfied: httpx<1,>=0.23.0 in /home/abrham/.local/lib/python3.8/site-packages (from openai<2.0.0,>=1.10.0->langchain-openai) (0.27.0)\n",
      "Requirement already satisfied: anyio<5,>=3.5.0 in /home/abrham/.local/lib/python3.8/site-packages (from openai<2.0.0,>=1.10.0->langchain-openai) (4.3.0)\n",
      "Requirement already satisfied: tqdm>4 in /home/abrham/.local/lib/python3.8/site-packages (from openai<2.0.0,>=1.10.0->langchain-openai) (4.66.1)\n",
      "Requirement already satisfied: typing-extensions<5,>=4.7 in /home/abrham/.local/lib/python3.8/site-packages (from openai<2.0.0,>=1.10.0->langchain-openai) (4.9.0)\n",
      "Requirement already satisfied: distro<2,>=1.7.0 in /home/abrham/.local/lib/python3.8/site-packages (from openai<2.0.0,>=1.10.0->langchain-openai) (1.9.0)\n",
      "Requirement already satisfied: regex>=2022.1.18 in /home/abrham/.local/lib/python3.8/site-packages (from tiktoken<1,>=0.5.2->langchain-openai) (2023.10.3)\n",
      "Requirement already satisfied: requests>=2.26.0 in /home/abrham/.local/lib/python3.8/site-packages (from tiktoken<1,>=0.5.2->langchain-openai) (2.31.0)\n",
      "Requirement already satisfied: jsonpatch<2.0,>=1.33 in /home/abrham/.local/lib/python3.8/site-packages (from langchain-core<0.2,>=0.1.16->langchain-openai) (1.33)\n",
      "Requirement already satisfied: tenacity<9.0.0,>=8.1.0 in /home/abrham/.local/lib/python3.8/site-packages (from langchain-core<0.2,>=0.1.16->langchain-openai) (8.2.3)\n",
      "Requirement already satisfied: langsmith<0.2.0,>=0.1.0 in /home/abrham/.local/lib/python3.8/site-packages (from langchain-core<0.2,>=0.1.16->langchain-openai) (0.1.5)\n",
      "Requirement already satisfied: packaging<24.0,>=23.2 in /home/abrham/.local/lib/python3.8/site-packages (from langchain-core<0.2,>=0.1.16->langchain-openai) (23.2)\n",
      "Requirement already satisfied: PyYAML>=5.3 in /usr/lib/python3/dist-packages (from langchain-core<0.2,>=0.1.16->langchain-openai) (5.3.1)\n",
      "Requirement already satisfied: annotated-types>=0.4.0 in /home/abrham/.local/lib/python3.8/site-packages (from pydantic<3,>=1.9.0->openai<2.0.0,>=1.10.0->langchain-openai) (0.6.0)\n",
      "Requirement already satisfied: pydantic-core==2.16.2 in /home/abrham/.local/lib/python3.8/site-packages (from pydantic<3,>=1.9.0->openai<2.0.0,>=1.10.0->langchain-openai) (2.16.2)\n",
      "Requirement already satisfied: httpcore==1.* in /home/abrham/.local/lib/python3.8/site-packages (from httpx<1,>=0.23.0->openai<2.0.0,>=1.10.0->langchain-openai) (1.0.4)\n",
      "Requirement already satisfied: idna in /usr/lib/python3/dist-packages (from httpx<1,>=0.23.0->openai<2.0.0,>=1.10.0->langchain-openai) (2.8)\n",
      "Requirement already satisfied: certifi in /usr/lib/python3/dist-packages (from httpx<1,>=0.23.0->openai<2.0.0,>=1.10.0->langchain-openai) (2019.11.28)\n",
      "Requirement already satisfied: exceptiongroup>=1.0.2; python_version < \"3.11\" in /home/abrham/.local/lib/python3.8/site-packages (from anyio<5,>=3.5.0->openai<2.0.0,>=1.10.0->langchain-openai) (1.2.0)\n",
      "Requirement already satisfied: charset-normalizer<4,>=2 in /home/abrham/.local/lib/python3.8/site-packages (from requests>=2.26.0->tiktoken<1,>=0.5.2->langchain-openai) (3.3.2)\n",
      "Requirement already satisfied: urllib3<3,>=1.21.1 in /usr/lib/python3/dist-packages (from requests>=2.26.0->tiktoken<1,>=0.5.2->langchain-openai) (1.25.8)\n",
      "Requirement already satisfied: jsonpointer>=1.9 in /home/abrham/.local/lib/python3.8/site-packages (from jsonpatch<2.0,>=1.33->langchain-core<0.2,>=0.1.16->langchain-openai) (2.4)\n",
      "Requirement already satisfied: h11<0.15,>=0.13 in /home/abrham/.local/lib/python3.8/site-packages (from httpcore==1.*->httpx<1,>=0.23.0->openai<2.0.0,>=1.10.0->langchain-openai) (0.14.0)\n",
      "Note: you may need to restart the kernel to use updated packages.\n"
     ]
    }
   ],
   "source": [
    "pip install langchain-openai"
   ]
  },
  {
   "cell_type": "code",
   "execution_count": 5,
   "metadata": {},
   "outputs": [
    {
     "name": "stdout",
     "output_type": "stream",
     "text": [
      "Requirement already satisfied: chromadb in /home/abrham/.local/lib/python3.8/site-packages (0.4.23)\n",
      "Requirement already satisfied: typing-extensions>=4.5.0 in /home/abrham/.local/lib/python3.8/site-packages (from chromadb) (4.9.0)\n",
      "Requirement already satisfied: tenacity>=8.2.3 in /home/abrham/.local/lib/python3.8/site-packages (from chromadb) (8.2.3)\n",
      "Requirement already satisfied: typer>=0.9.0 in /home/abrham/.local/lib/python3.8/site-packages (from chromadb) (0.9.0)\n",
      "Requirement already satisfied: grpcio>=1.58.0 in /home/abrham/.local/lib/python3.8/site-packages (from chromadb) (1.62.0)\n",
      "Requirement already satisfied: chroma-hnswlib==0.7.3 in /home/abrham/.local/lib/python3.8/site-packages (from chromadb) (0.7.3)\n",
      "Requirement already satisfied: pydantic>=1.9 in /home/abrham/.local/lib/python3.8/site-packages (from chromadb) (2.6.1)\n",
      "Requirement already satisfied: bcrypt>=4.0.1 in /home/abrham/.local/lib/python3.8/site-packages (from chromadb) (4.1.2)\n",
      "Requirement already satisfied: opentelemetry-exporter-otlp-proto-grpc>=1.2.0 in /home/abrham/.local/lib/python3.8/site-packages (from chromadb) (1.22.0)\n",
      "Requirement already satisfied: overrides>=7.3.1 in /home/abrham/.local/lib/python3.8/site-packages (from chromadb) (7.7.0)\n",
      "Requirement already satisfied: graphlib-backport>=1.0.3; python_version < \"3.9\" in /home/abrham/.local/lib/python3.8/site-packages (from chromadb) (1.0.3)\n",
      "Requirement already satisfied: importlib-resources in /usr/local/lib/python3.8/dist-packages (from chromadb) (5.10.0)\n",
      "Collecting PyYAML>=6.0.0\n",
      "  Downloading PyYAML-6.0.1-cp38-cp38-manylinux_2_17_x86_64.manylinux2014_x86_64.whl (736 kB)\n",
      "\u001b[K     |████████████████████████████████| 736 kB 492 kB/s eta 0:00:01\n",
      "\u001b[?25hRequirement already satisfied: fastapi>=0.95.2 in /home/abrham/.local/lib/python3.8/site-packages (from chromadb) (0.109.2)\n",
      "Requirement already satisfied: onnxruntime>=1.14.1 in /home/abrham/.local/lib/python3.8/site-packages (from chromadb) (1.16.3)\n",
      "Requirement already satisfied: opentelemetry-instrumentation-fastapi>=0.41b0 in /home/abrham/.local/lib/python3.8/site-packages (from chromadb) (0.43b0)\n",
      "Requirement already satisfied: opentelemetry-sdk>=1.2.0 in /home/abrham/.local/lib/python3.8/site-packages (from chromadb) (1.22.0)\n",
      "Requirement already satisfied: uvicorn[standard]>=0.18.3 in /home/abrham/.local/lib/python3.8/site-packages (from chromadb) (0.27.1)\n",
      "Requirement already satisfied: kubernetes>=28.1.0 in /home/abrham/.local/lib/python3.8/site-packages (from chromadb) (29.0.0)\n",
      "Requirement already satisfied: pulsar-client>=3.1.0 in /home/abrham/.local/lib/python3.8/site-packages (from chromadb) (3.4.0)\n",
      "Requirement already satisfied: tqdm>=4.65.0 in /home/abrham/.local/lib/python3.8/site-packages (from chromadb) (4.66.1)\n",
      "Requirement already satisfied: orjson>=3.9.12 in /home/abrham/.local/lib/python3.8/site-packages (from chromadb) (3.9.14)\n",
      "Requirement already satisfied: mmh3>=4.0.1 in /home/abrham/.local/lib/python3.8/site-packages (from chromadb) (4.1.0)\n",
      "Requirement already satisfied: requests>=2.28 in /home/abrham/.local/lib/python3.8/site-packages (from chromadb) (2.31.0)\n",
      "Requirement already satisfied: numpy>=1.22.5 in /home/abrham/.local/lib/python3.8/site-packages (from chromadb) (1.24.4)\n",
      "Requirement already satisfied: posthog>=2.4.0 in /home/abrham/.local/lib/python3.8/site-packages (from chromadb) (3.4.2)\n",
      "Requirement already satisfied: pypika>=0.48.9 in /home/abrham/.local/lib/python3.8/site-packages (from chromadb) (0.48.9)\n",
      "Requirement already satisfied: opentelemetry-api>=1.2.0 in /home/abrham/.local/lib/python3.8/site-packages (from chromadb) (1.22.0)\n",
      "Requirement already satisfied: tokenizers>=0.13.2 in /home/abrham/.local/lib/python3.8/site-packages (from chromadb) (0.15.2)\n",
      "Requirement already satisfied: build>=1.0.3 in /home/abrham/.local/lib/python3.8/site-packages (from chromadb) (1.0.3)\n",
      "Requirement already satisfied: click<9.0.0,>=7.1.1 in /home/abrham/.local/lib/python3.8/site-packages (from typer>=0.9.0->chromadb) (8.1.7)\n",
      "Requirement already satisfied: pydantic-core==2.16.2 in /home/abrham/.local/lib/python3.8/site-packages (from pydantic>=1.9->chromadb) (2.16.2)\n",
      "Requirement already satisfied: annotated-types>=0.4.0 in /home/abrham/.local/lib/python3.8/site-packages (from pydantic>=1.9->chromadb) (0.6.0)\n",
      "Requirement already satisfied: googleapis-common-protos~=1.52 in /home/abrham/.local/lib/python3.8/site-packages (from opentelemetry-exporter-otlp-proto-grpc>=1.2.0->chromadb) (1.62.0)\n",
      "Requirement already satisfied: opentelemetry-proto==1.22.0 in /home/abrham/.local/lib/python3.8/site-packages (from opentelemetry-exporter-otlp-proto-grpc>=1.2.0->chromadb) (1.22.0)\n",
      "Requirement already satisfied: deprecated>=1.2.6 in /home/abrham/.local/lib/python3.8/site-packages (from opentelemetry-exporter-otlp-proto-grpc>=1.2.0->chromadb) (1.2.14)\n",
      "Requirement already satisfied: backoff<3.0.0,>=1.10.0; python_version >= \"3.7\" in /home/abrham/.local/lib/python3.8/site-packages (from opentelemetry-exporter-otlp-proto-grpc>=1.2.0->chromadb) (2.2.1)\n",
      "Requirement already satisfied: opentelemetry-exporter-otlp-proto-common==1.22.0 in /home/abrham/.local/lib/python3.8/site-packages (from opentelemetry-exporter-otlp-proto-grpc>=1.2.0->chromadb) (1.22.0)\n",
      "Requirement already satisfied: zipp>=3.1.0; python_version < \"3.10\" in /usr/local/lib/python3.8/dist-packages (from importlib-resources->chromadb) (3.10.0)\n",
      "Requirement already satisfied: starlette<0.37.0,>=0.36.3 in /home/abrham/.local/lib/python3.8/site-packages (from fastapi>=0.95.2->chromadb) (0.36.3)\n",
      "Requirement already satisfied: sympy in /home/abrham/.local/lib/python3.8/site-packages (from onnxruntime>=1.14.1->chromadb) (1.12)\n",
      "Requirement already satisfied: packaging in /home/abrham/.local/lib/python3.8/site-packages (from onnxruntime>=1.14.1->chromadb) (23.2)\n",
      "Requirement already satisfied: coloredlogs in /home/abrham/.local/lib/python3.8/site-packages (from onnxruntime>=1.14.1->chromadb) (15.0.1)\n",
      "Requirement already satisfied: protobuf in /home/abrham/.local/lib/python3.8/site-packages (from onnxruntime>=1.14.1->chromadb) (4.25.1)\n",
      "Requirement already satisfied: flatbuffers in /home/abrham/.local/lib/python3.8/site-packages (from onnxruntime>=1.14.1->chromadb) (23.5.26)\n",
      "Requirement already satisfied: opentelemetry-semantic-conventions==0.43b0 in /home/abrham/.local/lib/python3.8/site-packages (from opentelemetry-instrumentation-fastapi>=0.41b0->chromadb) (0.43b0)\n",
      "Requirement already satisfied: opentelemetry-instrumentation==0.43b0 in /home/abrham/.local/lib/python3.8/site-packages (from opentelemetry-instrumentation-fastapi>=0.41b0->chromadb) (0.43b0)\n",
      "Requirement already satisfied: opentelemetry-instrumentation-asgi==0.43b0 in /home/abrham/.local/lib/python3.8/site-packages (from opentelemetry-instrumentation-fastapi>=0.41b0->chromadb) (0.43b0)\n",
      "Requirement already satisfied: opentelemetry-util-http==0.43b0 in /home/abrham/.local/lib/python3.8/site-packages (from opentelemetry-instrumentation-fastapi>=0.41b0->chromadb) (0.43b0)\n",
      "Requirement already satisfied: h11>=0.8 in /home/abrham/.local/lib/python3.8/site-packages (from uvicorn[standard]>=0.18.3->chromadb) (0.14.0)\n",
      "Requirement already satisfied: watchfiles>=0.13; extra == \"standard\" in /home/abrham/.local/lib/python3.8/site-packages (from uvicorn[standard]>=0.18.3->chromadb) (0.21.0)\n",
      "Requirement already satisfied: python-dotenv>=0.13; extra == \"standard\" in /home/abrham/.local/lib/python3.8/site-packages (from uvicorn[standard]>=0.18.3->chromadb) (1.0.1)\n",
      "Requirement already satisfied: uvloop!=0.15.0,!=0.15.1,>=0.14.0; (sys_platform != \"win32\" and (sys_platform != \"cygwin\" and platform_python_implementation != \"PyPy\")) and extra == \"standard\" in /home/abrham/.local/lib/python3.8/site-packages (from uvicorn[standard]>=0.18.3->chromadb) (0.19.0)\n",
      "Requirement already satisfied: websockets>=10.4; extra == \"standard\" in /home/abrham/.local/lib/python3.8/site-packages (from uvicorn[standard]>=0.18.3->chromadb) (12.0)\n",
      "Requirement already satisfied: httptools>=0.5.0; extra == \"standard\" in /home/abrham/.local/lib/python3.8/site-packages (from uvicorn[standard]>=0.18.3->chromadb) (0.6.1)\n",
      "Requirement already satisfied: urllib3>=1.24.2 in /usr/lib/python3/dist-packages (from kubernetes>=28.1.0->chromadb) (1.25.8)\n",
      "Requirement already satisfied: python-dateutil>=2.5.3 in /home/abrham/.local/lib/python3.8/site-packages (from kubernetes>=28.1.0->chromadb) (2.8.2)\n",
      "Requirement already satisfied: oauthlib>=3.2.2 in /home/abrham/.local/lib/python3.8/site-packages (from kubernetes>=28.1.0->chromadb) (3.2.2)\n",
      "Requirement already satisfied: google-auth>=1.0.1 in /home/abrham/.local/lib/python3.8/site-packages (from kubernetes>=28.1.0->chromadb) (2.28.1)\n",
      "Requirement already satisfied: requests-oauthlib in /home/abrham/.local/lib/python3.8/site-packages (from kubernetes>=28.1.0->chromadb) (1.3.1)\n",
      "Requirement already satisfied: websocket-client!=0.40.0,!=0.41.*,!=0.42.*,>=0.32.0 in /home/abrham/.local/lib/python3.8/site-packages (from kubernetes>=28.1.0->chromadb) (1.7.0)\n",
      "Requirement already satisfied: certifi>=14.05.14 in /usr/lib/python3/dist-packages (from kubernetes>=28.1.0->chromadb) (2019.11.28)\n",
      "Requirement already satisfied: six>=1.9.0 in /usr/lib/python3/dist-packages (from kubernetes>=28.1.0->chromadb) (1.14.0)\n",
      "Requirement already satisfied: charset-normalizer<4,>=2 in /home/abrham/.local/lib/python3.8/site-packages (from requests>=2.28->chromadb) (3.3.2)\n",
      "Requirement already satisfied: idna<4,>=2.5 in /usr/lib/python3/dist-packages (from requests>=2.28->chromadb) (2.8)\n",
      "Requirement already satisfied: monotonic>=1.5 in /home/abrham/.local/lib/python3.8/site-packages (from posthog>=2.4.0->chromadb) (1.6)\n",
      "Requirement already satisfied: importlib-metadata<7.0,>=6.0 in /home/abrham/.local/lib/python3.8/site-packages (from opentelemetry-api>=1.2.0->chromadb) (6.0.0)\n",
      "Requirement already satisfied: huggingface_hub<1.0,>=0.16.4 in /home/abrham/.local/lib/python3.8/site-packages (from tokenizers>=0.13.2->chromadb) (0.20.3)\n",
      "Requirement already satisfied: tomli>=1.1.0; python_version < \"3.11\" in /home/abrham/.local/lib/python3.8/site-packages (from build>=1.0.3->chromadb) (2.0.1)\n",
      "Requirement already satisfied: pyproject_hooks in /home/abrham/.local/lib/python3.8/site-packages (from build>=1.0.3->chromadb) (1.0.0)\n",
      "Requirement already satisfied: wrapt<2,>=1.10 in /home/abrham/.local/lib/python3.8/site-packages (from deprecated>=1.2.6->opentelemetry-exporter-otlp-proto-grpc>=1.2.0->chromadb) (1.16.0)\n",
      "Requirement already satisfied: anyio<5,>=3.4.0 in /home/abrham/.local/lib/python3.8/site-packages (from starlette<0.37.0,>=0.36.3->fastapi>=0.95.2->chromadb) (4.3.0)\n",
      "Requirement already satisfied: mpmath>=0.19 in /home/abrham/.local/lib/python3.8/site-packages (from sympy->onnxruntime>=1.14.1->chromadb) (1.3.0)\n",
      "Requirement already satisfied: humanfriendly>=9.1 in /home/abrham/.local/lib/python3.8/site-packages (from coloredlogs->onnxruntime>=1.14.1->chromadb) (10.0)\n",
      "Requirement already satisfied: setuptools>=16.0 in /home/abrham/.local/lib/python3.8/site-packages (from opentelemetry-instrumentation==0.43b0->opentelemetry-instrumentation-fastapi>=0.41b0->chromadb) (40.1.0)\n",
      "Requirement already satisfied: asgiref~=3.0 in /home/abrham/.local/lib/python3.8/site-packages (from opentelemetry-instrumentation-asgi==0.43b0->opentelemetry-instrumentation-fastapi>=0.41b0->chromadb) (3.7.2)\n",
      "Requirement already satisfied: rsa<5,>=3.1.4 in /home/abrham/.local/lib/python3.8/site-packages (from google-auth>=1.0.1->kubernetes>=28.1.0->chromadb) (4.9)\n",
      "Requirement already satisfied: cachetools<6.0,>=2.0.0 in /home/abrham/.local/lib/python3.8/site-packages (from google-auth>=1.0.1->kubernetes>=28.1.0->chromadb) (5.3.2)\n",
      "Requirement already satisfied: pyasn1-modules>=0.2.1 in /home/abrham/.local/lib/python3.8/site-packages (from google-auth>=1.0.1->kubernetes>=28.1.0->chromadb) (0.3.0)\n",
      "Requirement already satisfied: fsspec>=2023.5.0 in /home/abrham/.local/lib/python3.8/site-packages (from huggingface_hub<1.0,>=0.16.4->tokenizers>=0.13.2->chromadb) (2024.2.0)\n",
      "Requirement already satisfied: filelock in /home/abrham/.local/lib/python3.8/site-packages (from huggingface_hub<1.0,>=0.16.4->tokenizers>=0.13.2->chromadb) (3.13.1)\n",
      "Requirement already satisfied: sniffio>=1.1 in /home/abrham/.local/lib/python3.8/site-packages (from anyio<5,>=3.4.0->starlette<0.37.0,>=0.36.3->fastapi>=0.95.2->chromadb) (1.3.0)\n",
      "Requirement already satisfied: exceptiongroup>=1.0.2; python_version < \"3.11\" in /home/abrham/.local/lib/python3.8/site-packages (from anyio<5,>=3.4.0->starlette<0.37.0,>=0.36.3->fastapi>=0.95.2->chromadb) (1.2.0)\n",
      "Requirement already satisfied: pyasn1>=0.1.3 in /home/abrham/.local/lib/python3.8/site-packages (from rsa<5,>=3.1.4->google-auth>=1.0.1->kubernetes>=28.1.0->chromadb) (0.5.1)\n",
      "Installing collected packages: PyYAML\n",
      "Successfully installed PyYAML-6.0.1\n",
      "Note: you may need to restart the kernel to use updated packages.\n"
     ]
    }
   ],
   "source": [
    "pip install chromadb"
   ]
  },
  {
   "cell_type": "code",
   "execution_count": 6,
   "metadata": {},
   "outputs": [
    {
     "name": "stdout",
     "output_type": "stream",
     "text": [
      "Requirement already satisfied: bs4 in /home/abrham/.local/lib/python3.8/site-packages (0.0.2)\n",
      "Requirement already satisfied: beautifulsoup4 in /usr/lib/python3/dist-packages (from bs4) (4.8.2)\n",
      "Note: you may need to restart the kernel to use updated packages.\n"
     ]
    }
   ],
   "source": [
    "pip install bs4"
   ]
  },
  {
   "cell_type": "code",
   "execution_count": null,
   "metadata": {},
   "outputs": [
    {
     "name": "stdout",
     "output_type": "stream",
     "text": [
      "Requirement already satisfied: langchain in /home/abrham/.local/lib/python3.8/site-packages (0.1.8)\n",
      "Requirement already satisfied: aiohttp<4.0.0,>=3.8.3 in /home/abrham/.local/lib/python3.8/site-packages (from langchain) (3.9.3)\n",
      "Requirement already satisfied: dataclasses-json<0.7,>=0.5.7 in /home/abrham/.local/lib/python3.8/site-packages (from langchain) (0.6.4)\n",
      "Requirement already satisfied: jsonpatch<2.0,>=1.33 in /home/abrham/.local/lib/python3.8/site-packages (from langchain) (1.33)\n",
      "Requirement already satisfied: requests<3,>=2 in /home/abrham/.local/lib/python3.8/site-packages (from langchain) (2.31.0)\n",
      "Requirement already satisfied: pydantic<3,>=1 in /home/abrham/.local/lib/python3.8/site-packages (from langchain) (2.6.1)\n",
      "Requirement already satisfied: langchain-community<0.1,>=0.0.21 in /home/abrham/.local/lib/python3.8/site-packages (from langchain) (0.0.21)\n",
      "Requirement already satisfied: async-timeout<5.0.0,>=4.0.0; python_version < \"3.11\" in /home/abrham/.local/lib/python3.8/site-packages (from langchain) (4.0.3)\n",
      "Requirement already satisfied: SQLAlchemy<3,>=1.4 in /home/abrham/.local/lib/python3.8/site-packages (from langchain) (2.0.27)\n",
      "Requirement already satisfied: tenacity<9.0.0,>=8.1.0 in /home/abrham/.local/lib/python3.8/site-packages (from langchain) (8.2.3)\n",
      "Requirement already satisfied: langsmith<0.2.0,>=0.1.0 in /home/abrham/.local/lib/python3.8/site-packages (from langchain) (0.1.5)\n",
      "Requirement already satisfied: langchain-core<0.2,>=0.1.24 in /home/abrham/.local/lib/python3.8/site-packages (from langchain) (0.1.25)\n",
      "Requirement already satisfied: PyYAML>=5.3 in /usr/lib/python3/dist-packages (from langchain) (5.3.1)\n",
      "Requirement already satisfied: numpy<2,>=1 in /home/abrham/.local/lib/python3.8/site-packages (from langchain) (1.24.4)\n",
      "Requirement already satisfied: attrs>=17.3.0 in /usr/local/lib/python3.8/dist-packages (from aiohttp<4.0.0,>=3.8.3->langchain) (22.1.0)\n",
      "Requirement already satisfied: yarl<2.0,>=1.0 in /home/abrham/.local/lib/python3.8/site-packages (from aiohttp<4.0.0,>=3.8.3->langchain) (1.9.4)\n",
      "Requirement already satisfied: frozenlist>=1.1.1 in /home/abrham/.local/lib/python3.8/site-packages (from aiohttp<4.0.0,>=3.8.3->langchain) (1.4.1)\n",
      "Requirement already satisfied: aiosignal>=1.1.2 in /home/abrham/.local/lib/python3.8/site-packages (from aiohttp<4.0.0,>=3.8.3->langchain) (1.3.1)\n",
      "Requirement already satisfied: multidict<7.0,>=4.5 in /home/abrham/.local/lib/python3.8/site-packages (from aiohttp<4.0.0,>=3.8.3->langchain) (6.0.5)\n",
      "Requirement already satisfied: marshmallow<4.0.0,>=3.18.0 in /home/abrham/.local/lib/python3.8/site-packages (from dataclasses-json<0.7,>=0.5.7->langchain) (3.20.2)\n",
      "Requirement already satisfied: typing-inspect<1,>=0.4.0 in /home/abrham/.local/lib/python3.8/site-packages (from dataclasses-json<0.7,>=0.5.7->langchain) (0.9.0)\n",
      "Requirement already satisfied: jsonpointer>=1.9 in /home/abrham/.local/lib/python3.8/site-packages (from jsonpatch<2.0,>=1.33->langchain) (2.4)\n",
      "Requirement already satisfied: idna<4,>=2.5 in /usr/lib/python3/dist-packages (from requests<3,>=2->langchain) (2.8)\n",
      "Requirement already satisfied: charset-normalizer<4,>=2 in /home/abrham/.local/lib/python3.8/site-packages (from requests<3,>=2->langchain) (3.3.2)\n",
      "Requirement already satisfied: urllib3<3,>=1.21.1 in /usr/lib/python3/dist-packages (from requests<3,>=2->langchain) (1.25.8)\n",
      "Requirement already satisfied: certifi>=2017.4.17 in /usr/lib/python3/dist-packages (from requests<3,>=2->langchain) (2019.11.28)\n",
      "Requirement already satisfied: typing-extensions>=4.6.1 in /home/abrham/.local/lib/python3.8/site-packages (from pydantic<3,>=1->langchain) (4.9.0)\n",
      "Requirement already satisfied: pydantic-core==2.16.2 in /home/abrham/.local/lib/python3.8/site-packages (from pydantic<3,>=1->langchain) (2.16.2)\n",
      "Requirement already satisfied: annotated-types>=0.4.0 in /home/abrham/.local/lib/python3.8/site-packages (from pydantic<3,>=1->langchain) (0.6.0)\n",
      "Requirement already satisfied: greenlet!=0.4.17; platform_machine == \"aarch64\" or (platform_machine == \"ppc64le\" or (platform_machine == \"x86_64\" or (platform_machine == \"amd64\" or (platform_machine == \"AMD64\" or (platform_machine == \"win32\" or platform_machine == \"WIN32\"))))) in /home/abrham/.local/lib/python3.8/site-packages (from SQLAlchemy<3,>=1.4->langchain) (3.0.3)\n",
      "Requirement already satisfied: packaging<24.0,>=23.2 in /home/abrham/.local/lib/python3.8/site-packages (from langchain-core<0.2,>=0.1.24->langchain) (23.2)\n",
      "Requirement already satisfied: anyio<5,>=3 in /home/abrham/.local/lib/python3.8/site-packages (from langchain-core<0.2,>=0.1.24->langchain) (4.3.0)\n",
      "Requirement already satisfied: mypy-extensions>=0.3.0 in /home/abrham/.local/lib/python3.8/site-packages (from typing-inspect<1,>=0.4.0->dataclasses-json<0.7,>=0.5.7->langchain) (1.0.0)\n",
      "Requirement already satisfied: sniffio>=1.1 in /home/abrham/.local/lib/python3.8/site-packages (from anyio<5,>=3->langchain-core<0.2,>=0.1.24->langchain) (1.3.0)\n",
      "Requirement already satisfied: exceptiongroup>=1.0.2; python_version < \"3.11\" in /home/abrham/.local/lib/python3.8/site-packages (from anyio<5,>=3->langchain-core<0.2,>=0.1.24->langchain) (1.2.0)\n",
      "Note: you may need to restart the kernel to use updated packages.\n"
     ]
    }
   ],
   "source": [
    "pip install langchain"
   ]
  },
  {
   "cell_type": "code",
   "execution_count": null,
   "metadata": {},
   "outputs": [
    {
     "name": "stdout",
     "output_type": "stream",
     "text": [
      "Requirement already satisfied: langchain in /home/abrham/.local/lib/python3.8/site-packages (0.1.8)\n",
      "Requirement already satisfied: aiohttp<4.0.0,>=3.8.3 in /home/abrham/.local/lib/python3.8/site-packages (from langchain) (3.9.3)\n",
      "Requirement already satisfied: dataclasses-json<0.7,>=0.5.7 in /home/abrham/.local/lib/python3.8/site-packages (from langchain) (0.6.4)\n",
      "Requirement already satisfied: jsonpatch<2.0,>=1.33 in /home/abrham/.local/lib/python3.8/site-packages (from langchain) (1.33)\n",
      "Requirement already satisfied: requests<3,>=2 in /home/abrham/.local/lib/python3.8/site-packages (from langchain) (2.31.0)\n",
      "Requirement already satisfied: pydantic<3,>=1 in /home/abrham/.local/lib/python3.8/site-packages (from langchain) (2.6.1)\n",
      "Requirement already satisfied: langchain-community<0.1,>=0.0.21 in /home/abrham/.local/lib/python3.8/site-packages (from langchain) (0.0.21)\n",
      "Requirement already satisfied: async-timeout<5.0.0,>=4.0.0; python_version < \"3.11\" in /home/abrham/.local/lib/python3.8/site-packages (from langchain) (4.0.3)\n",
      "Requirement already satisfied: SQLAlchemy<3,>=1.4 in /home/abrham/.local/lib/python3.8/site-packages (from langchain) (2.0.27)\n",
      "Requirement already satisfied: tenacity<9.0.0,>=8.1.0 in /home/abrham/.local/lib/python3.8/site-packages (from langchain) (8.2.3)\n",
      "Requirement already satisfied: langsmith<0.2.0,>=0.1.0 in /home/abrham/.local/lib/python3.8/site-packages (from langchain) (0.1.5)\n",
      "Requirement already satisfied: langchain-core<0.2,>=0.1.24 in /home/abrham/.local/lib/python3.8/site-packages (from langchain) (0.1.25)\n",
      "Requirement already satisfied: PyYAML>=5.3 in /usr/lib/python3/dist-packages (from langchain) (5.3.1)\n",
      "Requirement already satisfied: numpy<2,>=1 in /home/abrham/.local/lib/python3.8/site-packages (from langchain) (1.24.4)\n",
      "Requirement already satisfied: attrs>=17.3.0 in /usr/local/lib/python3.8/dist-packages (from aiohttp<4.0.0,>=3.8.3->langchain) (22.1.0)\n",
      "Requirement already satisfied: yarl<2.0,>=1.0 in /home/abrham/.local/lib/python3.8/site-packages (from aiohttp<4.0.0,>=3.8.3->langchain) (1.9.4)\n",
      "Requirement already satisfied: frozenlist>=1.1.1 in /home/abrham/.local/lib/python3.8/site-packages (from aiohttp<4.0.0,>=3.8.3->langchain) (1.4.1)\n",
      "Requirement already satisfied: aiosignal>=1.1.2 in /home/abrham/.local/lib/python3.8/site-packages (from aiohttp<4.0.0,>=3.8.3->langchain) (1.3.1)\n",
      "Requirement already satisfied: multidict<7.0,>=4.5 in /home/abrham/.local/lib/python3.8/site-packages (from aiohttp<4.0.0,>=3.8.3->langchain) (6.0.5)\n",
      "Requirement already satisfied: marshmallow<4.0.0,>=3.18.0 in /home/abrham/.local/lib/python3.8/site-packages (from dataclasses-json<0.7,>=0.5.7->langchain) (3.20.2)\n",
      "Requirement already satisfied: typing-inspect<1,>=0.4.0 in /home/abrham/.local/lib/python3.8/site-packages (from dataclasses-json<0.7,>=0.5.7->langchain) (0.9.0)\n",
      "Requirement already satisfied: jsonpointer>=1.9 in /home/abrham/.local/lib/python3.8/site-packages (from jsonpatch<2.0,>=1.33->langchain) (2.4)\n",
      "Requirement already satisfied: idna<4,>=2.5 in /usr/lib/python3/dist-packages (from requests<3,>=2->langchain) (2.8)\n",
      "Requirement already satisfied: charset-normalizer<4,>=2 in /home/abrham/.local/lib/python3.8/site-packages (from requests<3,>=2->langchain) (3.3.2)\n",
      "Requirement already satisfied: urllib3<3,>=1.21.1 in /usr/lib/python3/dist-packages (from requests<3,>=2->langchain) (1.25.8)\n",
      "Requirement already satisfied: certifi>=2017.4.17 in /usr/lib/python3/dist-packages (from requests<3,>=2->langchain) (2019.11.28)\n",
      "Requirement already satisfied: typing-extensions>=4.6.1 in /home/abrham/.local/lib/python3.8/site-packages (from pydantic<3,>=1->langchain) (4.9.0)\n",
      "Requirement already satisfied: pydantic-core==2.16.2 in /home/abrham/.local/lib/python3.8/site-packages (from pydantic<3,>=1->langchain) (2.16.2)\n",
      "Requirement already satisfied: annotated-types>=0.4.0 in /home/abrham/.local/lib/python3.8/site-packages (from pydantic<3,>=1->langchain) (0.6.0)\n",
      "Requirement already satisfied: greenlet!=0.4.17; platform_machine == \"aarch64\" or (platform_machine == \"ppc64le\" or (platform_machine == \"x86_64\" or (platform_machine == \"amd64\" or (platform_machine == \"AMD64\" or (platform_machine == \"win32\" or platform_machine == \"WIN32\"))))) in /home/abrham/.local/lib/python3.8/site-packages (from SQLAlchemy<3,>=1.4->langchain) (3.0.3)\n",
      "Requirement already satisfied: packaging<24.0,>=23.2 in /home/abrham/.local/lib/python3.8/site-packages (from langchain-core<0.2,>=0.1.24->langchain) (23.2)\n",
      "Requirement already satisfied: anyio<5,>=3 in /home/abrham/.local/lib/python3.8/site-packages (from langchain-core<0.2,>=0.1.24->langchain) (4.3.0)\n",
      "Requirement already satisfied: mypy-extensions>=0.3.0 in /home/abrham/.local/lib/python3.8/site-packages (from typing-inspect<1,>=0.4.0->dataclasses-json<0.7,>=0.5.7->langchain) (1.0.0)\n",
      "Requirement already satisfied: sniffio>=1.1 in /home/abrham/.local/lib/python3.8/site-packages (from anyio<5,>=3->langchain-core<0.2,>=0.1.24->langchain) (1.3.0)\n",
      "Requirement already satisfied: exceptiongroup>=1.0.2; python_version < \"3.11\" in /home/abrham/.local/lib/python3.8/site-packages (from anyio<5,>=3->langchain-core<0.2,>=0.1.24->langchain) (1.2.0)\n",
      "Note: you may need to restart the kernel to use updated packages.\n"
     ]
    }
   ],
   "source": [
    "pip install langchain"
   ]
  },
  {
   "cell_type": "code",
   "execution_count": 1,
   "metadata": {},
   "outputs": [
    {
     "name": "stdout",
     "output_type": "stream",
     "text": [
      "Requirement already satisfied: python-dotenv in /home/abrham/.local/lib/python3.8/site-packages (1.0.1)\n"
     ]
    }
   ],
   "source": [
    "!pip install python-dotenv"
   ]
  },
  {
   "cell_type": "code",
   "execution_count": 1,
   "metadata": {},
   "outputs": [],
   "source": [
    "from dotenv import load_dotenv\n",
    "import os\n",
    "\n",
    "# Load the .env file\n",
    "load_dotenv()\n",
    "\n",
    "# Now you can access the API key as an environment variable\n",
    "api_key = os.getenv(\"OPENAI_API_KEY\")\n",
    "langchain = os.getenv(\"LANGCHAIN_API_KEY\")"
   ]
  },
  {
   "cell_type": "code",
   "execution_count": 5,
   "metadata": {},
   "outputs": [],
   "source": [
    "import bs4\n",
    "from langchain import hub\n",
    "from langchain.text_splitter import RecursiveCharacterTextSplitter\n",
    "from langchain_community.document_loaders import WebBaseLoader\n",
    "import pysqlite3 as sqlite3\n",
    "from langchain_community.document_loaders import PyPDFLoader\n",
    "from langchain_community.vectorstores import Chroma\n",
    "from langchain_core.output_parsers import StrOutputParser\n",
    "from langchain_core.runnables import RunnablePassthrough\n",
    "from langchain_openai import ChatOpenAI, OpenAIEmbeddings"
   ]
  },
  {
   "cell_type": "code",
   "execution_count": 3,
   "metadata": {},
   "outputs": [],
   "source": [
    "# Load, chunk and index the contents of the blog.\n",
    "loader = WebBaseLoader(\n",
    "    web_paths=(\"https://lilianweng.github.io/posts/2023-06-23-agent/\",),\n",
    "    bs_kwargs=dict(\n",
    "        parse_only=bs4.SoupStrainer(\n",
    "            class_=(\"post-content\", \"post-title\", \"post-header\")\n",
    "        )\n",
    "    ),\n",
    ")\n",
    "docs = loader.load()\n",
    "\n",
    "text_splitter = RecursiveCharacterTextSplitter(chunk_size=1000, chunk_overlap=200)\n",
    "splits = text_splitter.split_documents(docs)\n",
    "vectorstore = Chroma.from_documents(documents=splits, embedding=OpenAIEmbeddings())\n",
    "\n",
    "# Retrieve and generate using the relevant snippets of the blog.\n",
    "retriever = vectorstore.as_retriever()\n",
    "prompt = hub.pull(\"rlm/rag-prompt\")\n",
    "llm = ChatOpenAI(model_name=\"gpt-3.5-turbo\", temperature=0)\n",
    "\n",
    "\n",
    "def format_docs(docs):\n",
    "    return \"\\n\\n\".join(doc.page_content for doc in docs)\n",
    "\n",
    "\n",
    "rag_chain = (\n",
    "    {\"context\": retriever | format_docs, \"question\": RunnablePassthrough()}\n",
    "    | prompt\n",
    "    | llm\n",
    "    | StrOutputParser()\n",
    ")"
   ]
  },
  {
   "cell_type": "code",
   "execution_count": 7,
   "metadata": {},
   "outputs": [],
   "source": [
    "loader = PyPDFLoader(\"../data/Raptor Contract.pdf\")\n",
    "pages = loader.load_and_split()\n",
    "\n",
    "text_splitter = RecursiveCharacterTextSplitter(chunk_size=1000, chunk_overlap=200)\n",
    "splits = text_splitter.split_documents(pages)\n",
    "vectorstore = Chroma.from_documents(documents=splits, embedding=OpenAIEmbeddings())\n",
    "\n",
    "# Retrieve and generate using the relevant snippets of the blog.\n",
    "retriever = vectorstore.as_retriever()\n",
    "prompt = hub.pull(\"rlm/rag-prompt\")\n",
    "llm = ChatOpenAI(model_name=\"gpt-3.5-turbo\", temperature=0)\n",
    "\n",
    "\n",
    "def format_docs(pages):\n",
    "    return \"\\n\\n\".join(doc.page_content for doc in pages)\n",
    "\n",
    "\n",
    "rag_chain = (\n",
    "    {\"context\": retriever | format_docs, \"question\": RunnablePassthrough()}\n",
    "    | prompt\n",
    "    | llm\n",
    "    | StrOutputParser()\n",
    ")"
   ]
  },
  {
   "cell_type": "code",
   "execution_count": 9,
   "metadata": {},
   "outputs": [
    {
     "data": {
      "text/plain": [
       "'D&O tail refers to directors\\' and officers\\' liability insurance policies that provide coverage for acts or omissions by directors and officers prior to the closing date of a transaction. The company is required to obtain and pay for \"tail\" insurance policies for the benefit of individuals covered by the existing insurance policy with terms at least as favorable as the current coverage. This provision survives the consummation of the transaction and can be enforced by the D&O indemnitees.'"
      ]
     },
     "execution_count": 9,
     "metadata": {},
     "output_type": "execute_result"
    }
   ],
   "source": [
    "rag_chain.invoke(\"What is D&O tail?\")"
   ]
  }
 ],
 "metadata": {
  "kernelspec": {
   "display_name": "Python 3",
   "language": "python",
   "name": "python3"
  },
  "language_info": {
   "codemirror_mode": {
    "name": "ipython",
    "version": 3
   },
   "file_extension": ".py",
   "mimetype": "text/x-python",
   "name": "python",
   "nbconvert_exporter": "python",
   "pygments_lexer": "ipython3",
   "version": "3.8.10"
  },
  "orig_nbformat": 4
 },
 "nbformat": 4,
 "nbformat_minor": 2
}
